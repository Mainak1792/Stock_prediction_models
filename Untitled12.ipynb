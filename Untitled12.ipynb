{
  "nbformat": 4,
  "nbformat_minor": 0,
  "metadata": {
    "colab": {
      "name": "Untitled12.ipynb",
      "provenance": [],
      "collapsed_sections": []
    },
    "kernelspec": {
      "name": "python3",
      "display_name": "Python 3"
    },
    "language_info": {
      "name": "python"
    }
  },
  "cells": [
    {
      "cell_type": "markdown",
      "metadata": {
        "id": "JSAxPJdCByz9"
      },
      "source": [
        "import pandas_datareader and dataset from tiingo"
      ]
    },
    {
      "cell_type": "code",
      "metadata": {
        "id": "U9NspTrrBzFz"
      },
      "source": [
        "import pandas_datareader as pdr\n",
        "key=\"5f59d77e149f9d00836c6f6f898aa7197035e836\"\n",
        "df = pdr.get_data_tiingo('AAPL', api_key=key)\n",
        "df.to_csv('AAPL.csv')\n",
        "import pandas as pd\n",
        "df=pd.read_csv('AAPL.csv')\n"
      ],
      "execution_count": null,
      "outputs": []
    },
    {
      "cell_type": "markdown",
      "metadata": {
        "id": "rxYuFPWzBze1"
      },
      "source": [
        "choose only 'close'"
      ]
    },
    {
      "cell_type": "code",
      "metadata": {
        "colab": {
          "base_uri": "https://localhost:8080/",
          "height": 282
        },
        "id": "KKIbPmHpBzz9",
        "outputId": "c8d5d3cf-dd8f-4b81-ef16-03da3626cc86"
      },
      "source": [
        "df1=df['close']\n",
        "import matplotlib.pyplot as plt\n",
        "plt.plot(df1)"
      ],
      "execution_count": null,
      "outputs": [
        {
          "output_type": "execute_result",
          "data": {
            "text/plain": [
              "[<matplotlib.lines.Line2D at 0x7fbca81eb450>]"
            ]
          },
          "metadata": {
            "tags": []
          },
          "execution_count": 3
        },
        {
          "output_type": "display_data",
          "data": {
            "image/png": "[encoded data removed]",
            "text/plain": [
              "<Figure size 432x288 with 1 Axes>"
            ]
          },
          "metadata": {
            "tags": [],
            "needs_background": "light"
          }
        }
      ]
    },
    {
      "cell_type": "markdown",
      "metadata": {
        "id": "oSvJ4mAnB0H9"
      },
      "source": [
        "Data_Preprocessing"
      ]
    },
    {
      "cell_type": "code",
      "metadata": {
        "id": "c4NWxe-WB0q0"
      },
      "source": [
        "from sklearn.preprocessing import MinMaxScaler\n",
        "import numpy as np\n",
        "scaler=MinMaxScaler(feature_range=(0,1))\n",
        "df1=scaler.fit_transform(np.array(df1).reshape(-1,1))"
      ],
      "execution_count": null,
      "outputs": []
    },
    {
      "cell_type": "code",
      "metadata": {
        "id": "-X2ZfhCnEC4S"
      },
      "source": [
        "##splitting dataset into train and test split\n",
        "training_size=int(len(df1)*0.65)\n",
        "test_size=len(df1)-training_size\n",
        "train_data,test_data=df1[0:training_size,:],df1[training_size:len(df1),:1]"
      ],
      "execution_count": null,
      "outputs": []
    },
    {
      "cell_type": "markdown",
      "metadata": {
        "id": "uXJWIUH-EB9A"
      },
      "source": [
        ""
      ]
    },
    {
      "cell_type": "code",
      "metadata": {
        "id": "WC9oSRC6EJ9n"
      },
      "source": [
        "import numpy\n",
        "# convert an array of values into a dataset matrix\n",
        "def create_dataset(dataset, time_step=1):\n",
        "\tdataX, dataY = [], []\n",
        "\tfor i in range(len(dataset)-time_step-1):\n",
        "\t\ta = dataset[i:(i+time_step), 0]   ###i=0, 0,1,2,3-----99   100 \n",
        "\t\tdataX.append(a)\n",
        "\t\tdataY.append(dataset[i + time_step, 0])\n",
        "\treturn numpy.array(dataX), numpy.array(dataY)"
      ],
      "execution_count": null,
      "outputs": []
    },
    {
      "cell_type": "code",
      "metadata": {
        "id": "4tGEvvJ4ENKZ"
      },
      "source": [
        "\n",
        "# reshape into X=t,t+1,t+2,t+3 and Y=t+4\n",
        "time_step = 100\n",
        "X_train, y_train = create_dataset(train_data, time_step)\n",
        "X_test, ytest = create_dataset(test_data, time_step)"
      ],
      "execution_count": null,
      "outputs": []
    },
    {
      "cell_type": "code",
      "metadata": {
        "id": "5cHp24pWIqoe"
      },
      "source": [
        "# reshape input to be [samples, time steps, features] which is required for LSTM\n",
        "X_train =X_train.reshape(X_train.shape[0],X_train.shape[1] , 1)\n",
        "X_test = X_test.reshape(X_test.shape[0],X_test.shape[1] , 1)"
      ],
      "execution_count": null,
      "outputs": []
    },
    {
      "cell_type": "markdown",
      "metadata": {
        "id": "o7_PeklJHd64"
      },
      "source": [
        "Define_model"
      ]
    },
    {
      "cell_type": "code",
      "metadata": {
        "colab": {
          "base_uri": "https://localhost:8080/"
        },
        "id": "nUcYQdXyHgZw",
        "outputId": "681e2bf7-8553-4c0b-87ab-293053390451"
      },
      "source": [
        "from tensorflow.keras.models import Sequential\n",
        "from tensorflow.keras.layers import Dense\n",
        "from tensorflow.keras.layers import LSTM\n",
        "\n",
        "model=Sequential()\n",
        "model.add(LSTM(50,return_sequences=True,input_shape=(100,1)))\n",
        "model.add(LSTM(50,return_sequences=True))\n",
        "model.add(LSTM(50))\n",
        "model.add(Dense(1))\n",
        "model.compile(loss='mean_squared_error',optimizer='adam')\n",
        "print(model.summary())"
      ],
      "execution_count": null,
      "outputs": [
        {
          "output_type": "stream",
          "text": [
            "Model: \"sequential_1\"\n",
            "_________________________________________________________________\n",
            "Layer (type)                 Output Shape              Param #   \n",
            "=================================================================\n",
            "lstm_3 (LSTM)                (None, 100, 50)           10400     \n",
            "_________________________________________________________________\n",
            "lstm_4 (LSTM)                (None, 100, 50)           20200     \n",
            "_________________________________________________________________\n",
            "lstm_5 (LSTM)                (None, 50)                20200     \n",
            "_________________________________________________________________\n",
            "dense_1 (Dense)              (None, 1)                 51        \n",
            "=================================================================\n",
            "Total params: 50,851\n",
            "Trainable params: 50,851\n",
            "Non-trainable params: 0\n",
            "_________________________________________________________________\n",
            "None\n"
          ],
          "name": "stdout"
        }
      ]
    },
    {
      "cell_type": "markdown",
      "metadata": {
        "id": "pkR1G65fHjEU"
      },
      "source": [
        "fit the model"
      ]
    },
    {
      "cell_type": "code",
      "metadata": {
        "colab": {
          "base_uri": "https://localhost:8080/"
        },
        "id": "P3ZW9NLUIfSO",
        "outputId": "20a3f83e-e695-4b9f-e0e6-43b4cf1f50c0"
      },
      "source": [
        "model.fit(X_train,y_train,validation_data=(X_test,ytest),epochs=100,batch_size=64,verbose=1)"
      ],
      "execution_count": null,
      "outputs": [
        {
          "output_type": "stream",
          "text": [
            "Epoch 1/100\n",
            "12/12 [==============================] - 8s 294ms/step - loss: 0.0179 - val_loss: 0.0449\n",
            "Epoch 2/100\n",
            "12/12 [==============================] - 2s 203ms/step - loss: 0.0027 - val_loss: 0.0232\n",
            "Epoch 3/100\n",
            "12/12 [==============================] - 2s 208ms/step - loss: 0.0012 - val_loss: 0.0224\n",
            "Epoch 4/100\n",
            "12/12 [==============================] - 2s 206ms/step - loss: 5.3942e-04 - val_loss: 0.0193\n",
            "Epoch 5/100\n",
            "12/12 [==============================] - 3s 216ms/step - loss: 4.1530e-04 - val_loss: 0.0188\n",
            "Epoch 6/100\n",
            "12/12 [==============================] - 2s 209ms/step - loss: 3.8831e-04 - val_loss: 0.0183\n",
            "Epoch 7/100\n",
            "12/12 [==============================] - 3s 211ms/step - loss: 3.6616e-04 - val_loss: 0.0179\n",
            "Epoch 8/100\n",
            "12/12 [==============================] - 2s 210ms/step - loss: 3.6798e-04 - val_loss: 0.0174\n",
            "Epoch 9/100\n",
            "12/12 [==============================] - 2s 206ms/step - loss: 3.4628e-04 - val_loss: 0.0171\n",
            "Epoch 10/100\n",
            "12/12 [==============================] - 3s 211ms/step - loss: 3.4017e-04 - val_loss: 0.0166\n",
            "Epoch 11/100\n",
            "12/12 [==============================] - 2s 204ms/step - loss: 3.1136e-04 - val_loss: 0.0161\n",
            "Epoch 12/100\n",
            "12/12 [==============================] - 2s 208ms/step - loss: 3.1514e-04 - val_loss: 0.0159\n",
            "Epoch 13/100\n",
            "12/12 [==============================] - 2s 210ms/step - loss: 3.6087e-04 - val_loss: 0.0152\n",
            "Epoch 14/100\n",
            "12/12 [==============================] - 2s 211ms/step - loss: 3.0437e-04 - val_loss: 0.0148\n",
            "Epoch 15/100\n",
            "12/12 [==============================] - 2s 208ms/step - loss: 2.9626e-04 - val_loss: 0.0141\n",
            "Epoch 16/100\n",
            "12/12 [==============================] - 2s 209ms/step - loss: 2.8261e-04 - val_loss: 0.0136\n",
            "Epoch 17/100\n",
            "12/12 [==============================] - 2s 205ms/step - loss: 2.6330e-04 - val_loss: 0.0133\n",
            "Epoch 18/100\n",
            "12/12 [==============================] - 2s 211ms/step - loss: 2.4914e-04 - val_loss: 0.0128\n",
            "Epoch 19/100\n",
            "12/12 [==============================] - 3s 214ms/step - loss: 2.2548e-04 - val_loss: 0.0126\n",
            "Epoch 20/100\n",
            "12/12 [==============================] - 3s 212ms/step - loss: 2.2745e-04 - val_loss: 0.0128\n",
            "Epoch 21/100\n",
            "12/12 [==============================] - 2s 210ms/step - loss: 2.2673e-04 - val_loss: 0.0127\n",
            "Epoch 22/100\n",
            "12/12 [==============================] - 3s 214ms/step - loss: 2.2511e-04 - val_loss: 0.0122\n",
            "Epoch 23/100\n",
            "12/12 [==============================] - 3s 219ms/step - loss: 2.1866e-04 - val_loss: 0.0134\n",
            "Epoch 24/100\n",
            "12/12 [==============================] - 3s 220ms/step - loss: 2.4894e-04 - val_loss: 0.0119\n",
            "Epoch 25/100\n",
            "12/12 [==============================] - 3s 221ms/step - loss: 2.0465e-04 - val_loss: 0.0114\n",
            "Epoch 26/100\n",
            "12/12 [==============================] - 3s 216ms/step - loss: 2.2183e-04 - val_loss: 0.0125\n",
            "Epoch 27/100\n",
            "12/12 [==============================] - 2s 207ms/step - loss: 2.2794e-04 - val_loss: 0.0125\n",
            "Epoch 28/100\n",
            "12/12 [==============================] - 3s 215ms/step - loss: 2.1279e-04 - val_loss: 0.0119\n",
            "Epoch 29/100\n",
            "12/12 [==============================] - 3s 213ms/step - loss: 2.0339e-04 - val_loss: 0.0119\n",
            "Epoch 30/100\n",
            "12/12 [==============================] - 2s 210ms/step - loss: 1.9841e-04 - val_loss: 0.0122\n",
            "Epoch 31/100\n",
            "12/12 [==============================] - 2s 210ms/step - loss: 1.9805e-04 - val_loss: 0.0105\n",
            "Epoch 32/100\n",
            "12/12 [==============================] - 3s 212ms/step - loss: 2.0593e-04 - val_loss: 0.0120\n",
            "Epoch 33/100\n",
            "12/12 [==============================] - 3s 215ms/step - loss: 2.0112e-04 - val_loss: 0.0120\n",
            "Epoch 34/100\n",
            "12/12 [==============================] - 3s 214ms/step - loss: 2.1178e-04 - val_loss: 0.0103\n",
            "Epoch 35/100\n",
            "12/12 [==============================] - 3s 217ms/step - loss: 1.9298e-04 - val_loss: 0.0119\n",
            "Epoch 36/100\n",
            "12/12 [==============================] - 3s 224ms/step - loss: 2.1502e-04 - val_loss: 0.0100\n",
            "Epoch 37/100\n",
            "12/12 [==============================] - 3s 221ms/step - loss: 1.7076e-04 - val_loss: 0.0096\n",
            "Epoch 38/100\n",
            "12/12 [==============================] - 3s 216ms/step - loss: 1.7379e-04 - val_loss: 0.0122\n",
            "Epoch 39/100\n",
            "12/12 [==============================] - 3s 213ms/step - loss: 2.1057e-04 - val_loss: 0.0103\n",
            "Epoch 40/100\n",
            "12/12 [==============================] - 3s 212ms/step - loss: 1.7061e-04 - val_loss: 0.0097\n",
            "Epoch 41/100\n",
            "12/12 [==============================] - 3s 211ms/step - loss: 1.8105e-04 - val_loss: 0.0111\n",
            "Epoch 42/100\n",
            "12/12 [==============================] - 3s 213ms/step - loss: 1.8145e-04 - val_loss: 0.0102\n",
            "Epoch 43/100\n",
            "12/12 [==============================] - 3s 212ms/step - loss: 1.8101e-04 - val_loss: 0.0099\n",
            "Epoch 44/100\n",
            "12/12 [==============================] - 3s 212ms/step - loss: 1.7543e-04 - val_loss: 0.0098\n",
            "Epoch 45/100\n",
            "12/12 [==============================] - 3s 213ms/step - loss: 1.5870e-04 - val_loss: 0.0095\n",
            "Epoch 46/100\n",
            "12/12 [==============================] - 3s 213ms/step - loss: 1.5355e-04 - val_loss: 0.0102\n",
            "Epoch 47/100\n",
            "12/12 [==============================] - 3s 211ms/step - loss: 1.5338e-04 - val_loss: 0.0097\n",
            "Epoch 48/100\n",
            "12/12 [==============================] - 2s 209ms/step - loss: 1.5296e-04 - val_loss: 0.0099\n",
            "Epoch 49/100\n",
            "12/12 [==============================] - 3s 213ms/step - loss: 1.6218e-04 - val_loss: 0.0100\n",
            "Epoch 50/100\n",
            "12/12 [==============================] - 3s 212ms/step - loss: 1.6180e-04 - val_loss: 0.0081\n",
            "Epoch 51/100\n",
            "12/12 [==============================] - 2s 208ms/step - loss: 1.5044e-04 - val_loss: 0.0081\n",
            "Epoch 52/100\n",
            "12/12 [==============================] - 3s 211ms/step - loss: 1.6536e-04 - val_loss: 0.0081\n",
            "Epoch 53/100\n",
            "12/12 [==============================] - 3s 213ms/step - loss: 2.0931e-04 - val_loss: 0.0088\n",
            "Epoch 54/100\n",
            "12/12 [==============================] - 3s 213ms/step - loss: 1.8661e-04 - val_loss: 0.0080\n",
            "Epoch 55/100\n",
            "12/12 [==============================] - 3s 215ms/step - loss: 1.5141e-04 - val_loss: 0.0081\n",
            "Epoch 56/100\n",
            "12/12 [==============================] - 2s 211ms/step - loss: 1.5214e-04 - val_loss: 0.0080\n",
            "Epoch 57/100\n",
            "12/12 [==============================] - 2s 209ms/step - loss: 1.4748e-04 - val_loss: 0.0082\n",
            "Epoch 58/100\n",
            "12/12 [==============================] - 2s 208ms/step - loss: 1.4969e-04 - val_loss: 0.0075\n",
            "Epoch 59/100\n",
            "12/12 [==============================] - 3s 211ms/step - loss: 1.5948e-04 - val_loss: 0.0084\n",
            "Epoch 60/100\n",
            "12/12 [==============================] - 2s 209ms/step - loss: 1.3353e-04 - val_loss: 0.0079\n",
            "Epoch 61/100\n",
            "12/12 [==============================] - 2s 208ms/step - loss: 1.3906e-04 - val_loss: 0.0070\n",
            "Epoch 62/100\n",
            "12/12 [==============================] - 3s 210ms/step - loss: 1.7645e-04 - val_loss: 0.0086\n",
            "Epoch 63/100\n",
            "12/12 [==============================] - 2s 209ms/step - loss: 1.5383e-04 - val_loss: 0.0072\n",
            "Epoch 64/100\n",
            "12/12 [==============================] - 3s 211ms/step - loss: 1.7333e-04 - val_loss: 0.0070\n",
            "Epoch 65/100\n",
            "12/12 [==============================] - 2s 211ms/step - loss: 1.5583e-04 - val_loss: 0.0078\n",
            "Epoch 66/100\n",
            "12/12 [==============================] - 3s 215ms/step - loss: 1.6221e-04 - val_loss: 0.0066\n",
            "Epoch 67/100\n",
            "12/12 [==============================] - 2s 208ms/step - loss: 1.2908e-04 - val_loss: 0.0076\n",
            "Epoch 68/100\n",
            "12/12 [==============================] - 3s 210ms/step - loss: 1.4221e-04 - val_loss: 0.0070\n",
            "Epoch 69/100\n",
            "12/12 [==============================] - 2s 207ms/step - loss: 1.1089e-04 - val_loss: 0.0070\n",
            "Epoch 70/100\n",
            "12/12 [==============================] - 2s 206ms/step - loss: 1.2218e-04 - val_loss: 0.0063\n",
            "Epoch 71/100\n",
            "12/12 [==============================] - 2s 207ms/step - loss: 1.9273e-04 - val_loss: 0.0067\n",
            "Epoch 72/100\n",
            "12/12 [==============================] - 3s 211ms/step - loss: 1.3108e-04 - val_loss: 0.0070\n",
            "Epoch 73/100\n",
            "12/12 [==============================] - 3s 211ms/step - loss: 1.7040e-04 - val_loss: 0.0059\n",
            "Epoch 74/100\n",
            "12/12 [==============================] - 3s 211ms/step - loss: 1.2292e-04 - val_loss: 0.0065\n",
            "Epoch 75/100\n",
            "12/12 [==============================] - 3s 215ms/step - loss: 1.1612e-04 - val_loss: 0.0061\n",
            "Epoch 76/100\n",
            "12/12 [==============================] - 3s 210ms/step - loss: 1.1905e-04 - val_loss: 0.0062\n",
            "Epoch 77/100\n",
            "12/12 [==============================] - 3s 210ms/step - loss: 1.1520e-04 - val_loss: 0.0053\n",
            "Epoch 78/100\n",
            "12/12 [==============================] - 2s 210ms/step - loss: 1.7355e-04 - val_loss: 0.0065\n",
            "Epoch 79/100\n",
            "12/12 [==============================] - 3s 211ms/step - loss: 1.1642e-04 - val_loss: 0.0055\n",
            "Epoch 80/100\n",
            "12/12 [==============================] - 2s 210ms/step - loss: 1.2080e-04 - val_loss: 0.0052\n",
            "Epoch 81/100\n",
            "12/12 [==============================] - 3s 215ms/step - loss: 1.6562e-04 - val_loss: 0.0056\n",
            "Epoch 82/100\n",
            "12/12 [==============================] - 2s 208ms/step - loss: 1.0007e-04 - val_loss: 0.0056\n",
            "Epoch 83/100\n",
            "12/12 [==============================] - 3s 212ms/step - loss: 1.0026e-04 - val_loss: 0.0056\n",
            "Epoch 84/100\n",
            "12/12 [==============================] - 3s 211ms/step - loss: 1.0285e-04 - val_loss: 0.0053\n",
            "Epoch 85/100\n",
            "12/12 [==============================] - 3s 216ms/step - loss: 9.5987e-05 - val_loss: 0.0053\n",
            "Epoch 86/100\n",
            "12/12 [==============================] - 3s 211ms/step - loss: 9.3250e-05 - val_loss: 0.0053\n",
            "Epoch 87/100\n",
            "12/12 [==============================] - 3s 211ms/step - loss: 9.5802e-05 - val_loss: 0.0048\n",
            "Epoch 88/100\n",
            "12/12 [==============================] - 2s 210ms/step - loss: 1.0789e-04 - val_loss: 0.0050\n",
            "Epoch 89/100\n",
            "12/12 [==============================] - 3s 210ms/step - loss: 1.0720e-04 - val_loss: 0.0048\n",
            "Epoch 90/100\n",
            "12/12 [==============================] - 3s 212ms/step - loss: 1.0390e-04 - val_loss: 0.0056\n",
            "Epoch 91/100\n",
            "12/12 [==============================] - 3s 212ms/step - loss: 1.2619e-04 - val_loss: 0.0042\n",
            "Epoch 92/100\n",
            "12/12 [==============================] - 2s 209ms/step - loss: 1.1275e-04 - val_loss: 0.0051\n",
            "Epoch 93/100\n",
            "12/12 [==============================] - 3s 216ms/step - loss: 1.0533e-04 - val_loss: 0.0052\n",
            "Epoch 94/100\n",
            "12/12 [==============================] - 3s 212ms/step - loss: 1.5775e-04 - val_loss: 0.0042\n",
            "Epoch 95/100\n",
            "12/12 [==============================] - 3s 214ms/step - loss: 1.2269e-04 - val_loss: 0.0045\n",
            "Epoch 96/100\n",
            "12/12 [==============================] - 3s 213ms/step - loss: 1.0383e-04 - val_loss: 0.0047\n",
            "Epoch 97/100\n",
            "12/12 [==============================] - 3s 217ms/step - loss: 9.4505e-05 - val_loss: 0.0044\n",
            "Epoch 98/100\n",
            "12/12 [==============================] - 3s 215ms/step - loss: 9.3744e-05 - val_loss: 0.0044\n",
            "Epoch 99/100\n",
            "12/12 [==============================] - 3s 216ms/step - loss: 8.4153e-05 - val_loss: 0.0049\n",
            "Epoch 100/100\n",
            "12/12 [==============================] - 3s 215ms/step - loss: 9.8065e-05 - val_loss: 0.0043\n"
          ],
          "name": "stdout"
        },
        {
          "output_type": "execute_result",
          "data": {
            "text/plain": [
              "<tensorflow.python.keras.callbacks.History at 0x7fbc5e483950>"
            ]
          },
          "metadata": {
            "tags": []
          },
          "execution_count": 17
        }
      ]
    },
    {
      "cell_type": "code",
      "metadata": {
        "colab": {
          "base_uri": "https://localhost:8080/"
        },
        "id": "fYNmspgmI8Ty",
        "outputId": "a0d08178-73f6-4afa-a2a5-be9b8301a05c"
      },
      "source": [
        "import tensorflow as tf\n",
        "train_predict=model.predict(X_train)\n",
        "test_predict=model.predict(X_test)\n",
        "##Transformback to original form\n",
        "train_predict=scaler.inverse_transform(train_predict)\n",
        "test_predict=scaler.inverse_transform(test_predict)\n",
        "import math\n",
        "from sklearn.metrics import mean_squared_error\n",
        "math.sqrt(mean_squared_error(y_train,train_predict))\n",
        "math.sqrt(mean_squared_error(ytest,test_predict))"
      ],
      "execution_count": null,
      "outputs": [
        {
          "output_type": "execute_result",
          "data": {
            "text/plain": [
              "243.9809262641852"
            ]
          },
          "metadata": {
            "tags": []
          },
          "execution_count": 18
        }
      ]
    },
    {
      "cell_type": "code",
      "metadata": {
        "colab": {
          "base_uri": "https://localhost:8080/",
          "height": 265
        },
        "id": "d6f4-wZAJGHE",
        "outputId": "bf962711-ea86-43c2-dacf-51c7b924266f"
      },
      "source": [
        "### Plotting \n",
        "# shift train predictions for plotting\n",
        "look_back=100\n",
        "trainPredictPlot = numpy.empty_like(df1)\n",
        "trainPredictPlot[:, :] = np.nan\n",
        "trainPredictPlot[look_back:len(train_predict)+look_back, :] = train_predict\n",
        "# shift test predictions for plotting\n",
        "testPredictPlot = numpy.empty_like(df1)\n",
        "testPredictPlot[:, :] = numpy.nan\n",
        "testPredictPlot[len(train_predict)+(look_back*2)+1:len(df1)-1, :] = test_predict\n",
        "# plot baseline and predictions\n",
        "plt.plot(scaler.inverse_transform(df1))\n",
        "plt.plot(trainPredictPlot)\n",
        "plt.plot(testPredictPlot)\n",
        "plt.show()"
      ],
      "execution_count": null,
      "outputs": [
        {
          "output_type": "display_data",
          "data": {
            "image/png": "[encoded data removed]",
            "text/plain": [
              "<Figure size 432x288 with 1 Axes>"
            ]
          },
          "metadata": {
            "tags": [],
            "needs_background": "light"
          }
        }
      ]
    }
  ]
}